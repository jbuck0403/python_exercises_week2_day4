{
 "cells": [
  {
   "cell_type": "markdown",
   "metadata": {},
   "source": [
    "# Object-Oriented-Programming (OOP)"
   ]
  },
  {
   "cell_type": "markdown",
   "metadata": {},
   "source": [
    "## Tasks Today:\n",
    "\n",
    "   \n",
    "\n",
    "1) <b>Creating a Class (Initializing/Declaring)</b> <br>\n",
    "2) <b>Using a Class (Instantiating)</b> <br>\n",
    " &nbsp;&nbsp;&nbsp;&nbsp; a) Creating One Instance <br>\n",
    " &nbsp;&nbsp;&nbsp;&nbsp; b) Creating Multiple Instances <br>\n",
    " &nbsp;&nbsp;&nbsp;&nbsp; c) In-Class Exercise #1 - Create a Class 'Car' and instantiate three different makes of cars <br>\n",
    "3) <b>The \\__init\\__() Method</b> <br>\n",
    " &nbsp;&nbsp;&nbsp;&nbsp; a) The 'self' Attribute <br>\n",
    "4) <b>Class Attributes</b> <br>\n",
    " &nbsp;&nbsp;&nbsp;&nbsp; a) Initializing Attributes <br>\n",
    " &nbsp;&nbsp;&nbsp;&nbsp; b) Setting an Attribute Outside of the \\__init\\__() Method <br>\n",
    " &nbsp;&nbsp;&nbsp;&nbsp; c) Setting Defaults for Attributes <br>\n",
    " &nbsp;&nbsp;&nbsp;&nbsp; d) Accessing Class Attributes <br>\n",
    " &nbsp;&nbsp;&nbsp;&nbsp; e) Changing Class Attributes <br>\n",
    " &nbsp;&nbsp;&nbsp;&nbsp; f) In-Class Exercise #2 - Add a color and wheels attribute to your 'Car' class <br>\n",
    "5) <b>Class Methods</b> <br>\n",
    " &nbsp;&nbsp;&nbsp;&nbsp; a) Creating <br>\n",
    " &nbsp;&nbsp;&nbsp;&nbsp; b) Calling <br>\n",
    " &nbsp;&nbsp;&nbsp;&nbsp; c) Modifying an Attribute's Value Through a Method <br>\n",
    " &nbsp;&nbsp;&nbsp;&nbsp; d) Incrementing an Attribute's Value Through a Method <br>\n",
    " &nbsp;&nbsp;&nbsp;&nbsp; e) In-Class Exercise #3 - Add a method that prints the cars color and wheel number, then call them <br>\n",
    "6) <b>Inheritance</b> <br>\n",
    " &nbsp;&nbsp;&nbsp;&nbsp; a) Syntax for Inheriting from a Parent Class <br>\n",
    " &nbsp;&nbsp;&nbsp;&nbsp; b) The \\__init\\__() Method for a Child Class (super()) <br>\n",
    " &nbsp;&nbsp;&nbsp;&nbsp; c) Defining Attributes and Methods for the Child Class <br>\n",
    " &nbsp;&nbsp;&nbsp;&nbsp; d) Method Overriding <br>\n",
    " &nbsp;&nbsp;&nbsp;&nbsp; e) In-Class Exercise #4 - Create a class 'Ford' that inherits from 'Car' class and initialize it as a Blue Ford Explorer with 4 wheels using the super() method <br>\n",
    "7) <b>Exercises</b> <br>\n",
    " &nbsp;&nbsp;&nbsp;&nbsp; a) Exercise #1 - Turn the shopping cart program from yesterday into an object-oriented program <br>"
   ]
  },
  {
   "cell_type": "markdown",
   "metadata": {},
   "source": [
    "## Creating a Class (Initializing/Declaring)\n",
    "<p>When creating a class, function, or even a variable you are initializing that object. Initializing and Declaring occur at the same time in Python, whereas in lower level languages you have to declare an object before initializing it. This is the first step in the process of using a class.</p>"
   ]
  },
  {
   "cell_type": "code",
   "execution_count": 3,
   "metadata": {},
   "outputs": [],
   "source": [
    "class Car():\n",
    "    wheels = 4\n",
    "    color = 'blue'\n",
    "\n"
   ]
  },
  {
   "cell_type": "markdown",
   "metadata": {},
   "source": [
    "## Using a Class (Instantiating)\n",
    "<p>The process of creating a class is called <i>Instantiating</i>. Each time you create a variable of that type of class, it is referred to as an <i>Instance</i> of that class. This is the second step in the process of using a class.</p>"
   ]
  },
  {
   "cell_type": "markdown",
   "metadata": {},
   "source": [
    "##### Creating One Instance"
   ]
  },
  {
   "cell_type": "code",
   "execution_count": null,
   "metadata": {},
   "outputs": [],
   "source": [
    "ford = Car()"
   ]
  },
  {
   "cell_type": "markdown",
   "metadata": {},
   "source": [
    "##### Creating Multiple Instances"
   ]
  },
  {
   "cell_type": "code",
   "execution_count": null,
   "metadata": {},
   "outputs": [],
   "source": [
    "chevy = Car()\n",
    "toyota = Car()"
   ]
  },
  {
   "cell_type": "markdown",
   "metadata": {},
   "source": [
    "##### In-Class Exercise #1 - Create a Class 'Car' and Instantiate three different makes of cars"
   ]
  },
  {
   "cell_type": "code",
   "execution_count": 2,
   "metadata": {},
   "outputs": [
    {
     "name": "stdout",
     "output_type": "stream",
     "text": [
      "black\n"
     ]
    }
   ],
   "source": [
    "class Car:\n",
    "    type = 'sedan'\n",
    "    color = 'black'\n",
    "\n",
    "myCar = Car()\n",
    "print(myCar.color)"
   ]
  },
  {
   "cell_type": "markdown",
   "metadata": {},
   "source": [
    "## The \\__init\\__() Method <br>\n",
    "<p>This method is used in almost every created class, and called only once upon the creation of the class instance. This method will initialize all variables needed for the object.</p>"
   ]
  },
  {
   "cell_type": "code",
   "execution_count": 4,
   "metadata": {},
   "outputs": [
    {
     "name": "stdout",
     "output_type": "stream",
     "text": [
      "BMW\n",
      "Toyota\n"
     ]
    }
   ],
   "source": [
    "class Car:\n",
    "    def __init__(self, make):\n",
    "        self.make = make\n",
    "\n",
    "bmw = Car(\"BMW\")\n",
    "toyota = Car(\"Toyota\")\n",
    "Honda = Car(\"Honda\")\n",
    "\n",
    "print(bmw.make)\n",
    "print(toyota.make)"
   ]
  },
  {
   "cell_type": "markdown",
   "metadata": {},
   "source": [
    "##### The 'self' Attribute <br>\n",
    "<p>This attribute is required to keep track of specific instance's attributes. Without the self attribute, the program would not know how to reference or keep track of an instance's attributes.</p>"
   ]
  },
  {
   "cell_type": "code",
   "execution_count": null,
   "metadata": {},
   "outputs": [],
   "source": [
    "# see above"
   ]
  },
  {
   "cell_type": "markdown",
   "metadata": {},
   "source": [
    "## Class Attributes <br>\n",
    "<p>While variables are inside of a class, they are referred to as attributes and not variables. When someone says 'attribute' you know they're speaking about a class. Attributes can be initialized through the init method, or outside of it.</p>"
   ]
  },
  {
   "cell_type": "markdown",
   "metadata": {},
   "source": [
    "##### Initializing Attributes"
   ]
  },
  {
   "cell_type": "code",
   "execution_count": null,
   "metadata": {},
   "outputs": [],
   "source": [
    "# see above"
   ]
  },
  {
   "cell_type": "markdown",
   "metadata": {},
   "source": [
    "##### Accessing Class Attributes"
   ]
  },
  {
   "cell_type": "code",
   "execution_count": null,
   "metadata": {
    "scrolled": true
   },
   "outputs": [],
   "source": [
    "# See Above"
   ]
  },
  {
   "cell_type": "markdown",
   "metadata": {},
   "source": [
    "##### Setting Defaults for Attributes"
   ]
  },
  {
   "cell_type": "code",
   "execution_count": null,
   "metadata": {},
   "outputs": [],
   "source": [
    "class NBATeam():\n",
    "    def __init__(self, city, name, year=2023):\n",
    "        self.city = city\n",
    "        self.name = name\n",
    "        self.year = year\n",
    "\n",
    "heat = NBATeam('miami', 'heat', 2019)\n",
    "print(heat.year())\n",
    "print(heat.city)"
   ]
  },
  {
   "attachments": {},
   "cell_type": "markdown",
   "metadata": {},
   "source": [
    "##### Changing Instance Attributes <br>\n",
    "<p>Keep in mind there are global class attributes and then there are attributes only available to each class instance which won't effect other classes.</p>"
   ]
  },
  {
   "cell_type": "code",
   "execution_count": null,
   "metadata": {},
   "outputs": [],
   "source": [
    "# see above"
   ]
  },
  {
   "cell_type": "markdown",
   "metadata": {},
   "source": [
    "##### In-Class Exercise #2 - Add a doors and seats attribute to your 'Car' class then print out two different instances with different doors and seats"
   ]
  },
  {
   "cell_type": "code",
   "execution_count": 13,
   "metadata": {},
   "outputs": [
    {
     "name": "stdout",
     "output_type": "stream",
     "text": [
      "2 2\n",
      "4 4\n"
     ]
    }
   ],
   "source": [
    "class Car():\n",
    "    def __init__(self, doors = 4, seats = 4):\n",
    "        self.doors = doors\n",
    "        self.seats = seats\n",
    "    \n",
    "truck = Car(2, 2)\n",
    "sedan = Car()\n",
    "\n",
    "print(truck.seats, truck.doors)\n",
    "print(sedan.seats, sedan.doors)"
   ]
  },
  {
   "cell_type": "markdown",
   "metadata": {},
   "source": [
    "## Class Methods <br>\n",
    "<p>While inside of a class, functions are referred to as 'methods'. If you hear someone mention methods, they're speaking about classes. Methods are essentially functions, but only callable on the instances of a class.</p>"
   ]
  },
  {
   "cell_type": "markdown",
   "metadata": {},
   "source": [
    "##### Creating"
   ]
  },
  {
   "cell_type": "code",
   "execution_count": 28,
   "metadata": {},
   "outputs": [
    {
     "name": "stdout",
     "output_type": "stream",
     "text": [
      "---------- Your current roster ----------\n",
      "Kevin Durant #35\n",
      "Tony McBasketball #99\n",
      "Tony McBasketball has been removed from your roster!\n",
      "Your current roster is {'Kevin Durant': 35, 'Greek Freak': 34}.\n",
      "---------- Your current roster ----------\n",
      "Kevin Durant #35\n",
      "Greek Freak #34\n"
     ]
    }
   ],
   "source": [
    "class Roster():\n",
    "    def __init__(self):\n",
    "        self.depthChart = {}\n",
    "        self.numPlayers = 0\n",
    "\n",
    "    def addPlayer(self):\n",
    "        name = input(\"What player do you want on your roster?: \")\n",
    "        jerseyNum = int(input(f\"Jersey number for {name}?: \"))\n",
    "        self.depthChart[name] = jerseyNum\n",
    "\n",
    "    def removePlayer(self):\n",
    "        name = input(\"What player to remove from roster?: \")\n",
    "        if (name in self.depthChart):\n",
    "            del self.depthChart[name]\n",
    "            self.numPlayers -= 1\n",
    "            print(f\"{name} has been removed from your roster!\")\n",
    "            print(f\"Your current roster is {self.depthChart}.\")\n",
    "        else:\n",
    "            print(f\"{name} is not on your team.\")\n",
    "    \n",
    "    def showPlayers(self):\n",
    "        print(\"---------- Your current roster ----------\")\n",
    "        for player, jerseyNum in self.depthChart.items():\n",
    "            print(f\"{player} #{jerseyNum}\")\n",
    "\n",
    "    def fantasyRunner(self):\n",
    "        while True:\n",
    "            choice = input(\"What would you like to do? (Add/Remove/Show or Quit)\")\n",
    "\n",
    "            if choice[0].lower() == 'q':\n",
    "                break\n",
    "            elif choice[0].lower() == 'a':\n",
    "                self.addPlayer()\n",
    "            elif choice[0].lower() == 'r':\n",
    "                self.removePlayer()\n",
    "            elif choice[0].lower() == 's':\n",
    "                self.showPlayers()\n",
    "            else: continue\n",
    "\n",
    "thievesRoster = Roster()\n",
    "\n",
    "thievesRoster.fantasyRunner()"
   ]
  },
  {
   "cell_type": "markdown",
   "metadata": {},
   "source": [
    "##### Calling"
   ]
  },
  {
   "cell_type": "code",
   "execution_count": null,
   "metadata": {},
   "outputs": [],
   "source": [
    "# See Above"
   ]
  },
  {
   "cell_type": "markdown",
   "metadata": {},
   "source": [
    "##### Modifying an Attribute's Value Through a Method"
   ]
  },
  {
   "cell_type": "code",
   "execution_count": null,
   "metadata": {},
   "outputs": [],
   "source": [
    "# see above\n"
   ]
  },
  {
   "cell_type": "markdown",
   "metadata": {},
   "source": [
    "##### Incrementing an Attribute's Value Through a Method"
   ]
  },
  {
   "cell_type": "code",
   "execution_count": null,
   "metadata": {},
   "outputs": [],
   "source": [
    "# see above\n"
   ]
  },
  {
   "cell_type": "markdown",
   "metadata": {},
   "source": [
    "## Inheritance <br>\n",
    "<p>You can create a child-parent relationship between two classes by using inheritance. What this allows you to do is have overriding methods, but also inherit traits from the parent class. Think of it as an actual parent and child, the child will inherit the parent's genes, as will the classes in OOP</p>"
   ]
  },
  {
   "cell_type": "markdown",
   "metadata": {},
   "source": [
    "##### Syntax for Inheriting from a Parent Class"
   ]
  },
  {
   "cell_type": "code",
   "execution_count": 7,
   "metadata": {},
   "outputs": [],
   "source": [
    "class NBATeam(): # parent class\n",
    "    def __init__(self, city, name, year=2023):\n",
    "        self.city = city\n",
    "        self.name = name\n",
    "        self.year = year\n",
    "\n",
    "    def printInfo(self):\n",
    "        return f'{self.name} are from {self.city}'\n",
    "\n",
    "class Roster(NBATeam): # child class\n",
    "    def __init__(self, city, name):\n",
    "        super().__init__(city, name)\n",
    "        self.depthChart = {}\n",
    "        self.numPlayers = 0\n",
    "\n",
    "    def addPlayer(self):\n",
    "        name = input(f\"What player do you want on the {self.name}?: \")\n",
    "        jerseyNum = int(input(f\"Jersey number for {name}?: \"))\n",
    "        self.depthChart[name] = jerseyNum\n",
    "\n",
    "    def removePlayer(self):\n",
    "        name = input(f\"What player to remove from the {self.name}?: \")\n",
    "        if (name in self.depthChart):\n",
    "            del self.depthChart[name]\n",
    "            self.numPlayers -= 1\n",
    "            print(f\"{name} has been removed from your roster!\")\n",
    "            print(f\"Your current roster is {self.depthChart}.\")\n",
    "        else:\n",
    "            print(f\"{name} is not on your team.\")\n",
    "    \n",
    "    def showPlayers(self):\n",
    "        print(f\"---------- Your current roster for the {self.city} {self.name} ----------\")\n",
    "        for player, jerseyNum in self.depthChart.items():\n",
    "            print(f\"{player} #{jerseyNum}\")\n",
    "\n",
    "    def fantasyRunner(self):\n",
    "        while True:\n",
    "            choice = input(\"What would you like to do? (Add/Remove/Show or Quit)\")\n",
    "\n",
    "            if choice[0].lower() == 'q':\n",
    "                break\n",
    "            elif choice[0].lower() == 'a':\n",
    "                self.addPlayer()\n",
    "            elif choice[0].lower() == 'r':\n",
    "                self.removePlayer()\n",
    "            elif choice[0].lower() == 's':\n",
    "                self.showPlayers()\n",
    "            else: continue\n",
    "\n",
    "myTeam = NBATeam('LA', 'Lakers')\n",
    "myFantasy = Roster(myTeam.city, myTeam.name)\n",
    "\n",
    "myFantasy.fantasyRunner()"
   ]
  },
  {
   "cell_type": "markdown",
   "metadata": {},
   "source": [
    "##### The \\__init\\__() Method for a Child Class - super()"
   ]
  },
  {
   "cell_type": "code",
   "execution_count": null,
   "metadata": {
    "scrolled": true
   },
   "outputs": [],
   "source": [
    "# see above"
   ]
  },
  {
   "cell_type": "markdown",
   "metadata": {},
   "source": [
    "##### Defining Attributes and Methods for the Child Class"
   ]
  },
  {
   "cell_type": "code",
   "execution_count": null,
   "metadata": {},
   "outputs": [],
   "source": [
    "# See Above"
   ]
  },
  {
   "cell_type": "markdown",
   "metadata": {},
   "source": [
    "# Exercises"
   ]
  },
  {
   "cell_type": "markdown",
   "metadata": {},
   "source": [
    "### Exercise 1 - Turn the shopping cart program from yesterday into an object-oriented program\n",
    "\n",
    "The comments in the cell below are there as a guide for thinking about the problem. However, if you feel a different way is best for you and your own thought process, please do what feels best for you by all means."
   ]
  },
  {
   "cell_type": "code",
   "execution_count": 25,
   "metadata": {},
   "outputs": [
    {
     "name": "stdout",
     "output_type": "stream",
     "text": [
      "Final list:\n",
      "Chicken\n",
      "Eggs\n",
      "Steak\n"
     ]
    }
   ],
   "source": [
    "# Create a class called cart that retains items and has methods to add, remove, and show\n",
    "from IPython.display import clear_output\n",
    "\n",
    "class GroceryList():\n",
    "\n",
    "    def __init__(self, groceries = set()):\n",
    "        self.groceries = groceries\n",
    "\n",
    "    \n",
    "    def addGroceryItem(self):\n",
    "        itemsToAdd = self.makeTrueTitle(input(\"Item to add (separate multiple items with ,): \")).split(',')\n",
    "        # format and add all items from input, separated by commas\n",
    "        [self.groceries.add(item.strip()) for item in itemsToAdd]\n",
    "\n",
    "        separator = ', ' if len(itemsToAdd) > 1 else ''\n",
    "        self.showGroceries(f\"Added {separator.join(sorted(itemsToAdd))} to grocery list...\")\n",
    "\n",
    "    def deleteGroceryItem(self):\n",
    "        if len(self.groceries) == 0: return # if no items in grocery list, return\n",
    "\n",
    "        self.showGroceries(\"Current groceries on list...\")\n",
    "\n",
    "        # deletes inputs not in the list\n",
    "        itemsToDelete = input(\"Which items do you want to delete? (separate multiple items with ,): \").split(',') # accept input, items separated by commas\n",
    "        itemsToDelete = [cleanItem for item in itemsToDelete if (cleanItem := self.makeTrueTitle(item.strip())) in self.groceries] # filter out inputs not currently in groceries\n",
    "        \n",
    "        if len(itemsToDelete) == 0: return # if the list of items to delete is empty (no valid items), return \n",
    "\n",
    "        [self.groceries.remove(item) for item in itemsToDelete] # remove all items in itemsToDelete from groceries\n",
    "\n",
    "        self.showGroceries((f\"Removed {' '.join(sorted(itemsToDelete))} from grocery list...\"))\n",
    "        \n",
    "    def showGroceries(self, message = \"Current list:\"):\n",
    "        self.tryClearOutput()\n",
    "        if len(self.groceries) == 0:\n",
    "            message = \"No items on list...\"\n",
    "        print(message)\n",
    "\n",
    "        [print(item) for item in sorted(self.groceries)]  # print all items in the sorted groceries list\n",
    "\n",
    "    def checkOption(self, userInput):\n",
    "        options = {\n",
    "            's': self.showGroceries,\n",
    "            'a': self.addGroceryItem,\n",
    "            'd': self.deleteGroceryItem,\n",
    "            'q': ['q', self.showGroceries]\n",
    "        }\n",
    "        \n",
    "        cleanInput = userInput.lower().strip()[0]\n",
    "        \n",
    "        return options.get(cleanInput, False) # returns user choice based on input, if input doesn't reflect a choice returns false to loop again\n",
    "    \n",
    "\n",
    "    def getInput(self):\n",
    "        # Ask the user four bits of input: Do you want to : Show/Add/Delete or Quit?\n",
    "        return self.checkOption(input(\"Show/Add/Delete or Quit: \"))\n",
    "            \n",
    "    def makeTrueTitle(self, str):\n",
    "        \"\"\"capitalizes the first letter of each word in a string, separated by spaces\n",
    "        \n",
    "        returns a string\"\"\"\n",
    "        return ''.join([word.title() for word in str.split(' ')])\n",
    "    \n",
    "    def tryClearOutput(self, wait = True):\n",
    "        # clears output in ipython environments (jupyter notebook, etc.) ignores if outside of ipython environment\n",
    "        try:\n",
    "            clear_output(wait)\n",
    "        except:\n",
    "            pass\n",
    "\n",
    "    def newList(self):\n",
    "        while True:\n",
    "            self.tryClearOutput()\n",
    "\n",
    "            choice = self.getInput()\n",
    "\n",
    "            if not choice: # if no or no valid choice is made\n",
    "                continue\n",
    "            elif type(choice) == list: # if user chooses to quit\n",
    "                choice[1](\"Final list:\") # display list before exiting loop\n",
    "                break\n",
    "            else:\n",
    "                choice() # runs chosen function (show/add/delete)\n",
    "\n",
    "myList = GroceryList()\n",
    "myList.newList()"
   ]
  },
  {
   "cell_type": "markdown",
   "metadata": {},
   "source": [
    "### Exercise 2 - Write a Python class which has two methods get_String and print_String. get_String accept a string from the user and print_String print the string in upper case"
   ]
  },
  {
   "cell_type": "code",
   "execution_count": 27,
   "metadata": {},
   "outputs": [
    {
     "name": "stdout",
     "output_type": "stream",
     "text": [
      "FUZZY WUZZY WAS A BEAR\n"
     ]
    }
   ],
   "source": [
    "class StringStuff():\n",
    "    def __init__(self):\n",
    "        self.str = ''\n",
    "\n",
    "    def get_String(self):\n",
    "        self.str = input(\"Type a string: \")\n",
    "\n",
    "    def print_String(self):\n",
    "        print(self.str.upper())\n",
    "\n",
    "myInstance = StringStuff()\n",
    "myInstance.get_String()\n",
    "myInstance.print_String()"
   ]
  }
 ],
 "metadata": {
  "kernelspec": {
   "display_name": "Python 3",
   "language": "python",
   "name": "python3"
  },
  "language_info": {
   "codemirror_mode": {
    "name": "ipython",
    "version": 3
   },
   "file_extension": ".py",
   "mimetype": "text/x-python",
   "name": "python",
   "nbconvert_exporter": "python",
   "pygments_lexer": "ipython3",
   "version": "3.10.7"
  },
  "vscode": {
   "interpreter": {
    "hash": "aa82987a71ca0339a52998cd22613b0c002bda8349fa32a0cb67ceec3936a2bf"
   }
  }
 },
 "nbformat": 4,
 "nbformat_minor": 2
}
